{
  "nbformat": 4,
  "nbformat_minor": 0,
  "metadata": {
    "colab": {
      "name": "videosave.ipynb",
      "version": "0.3.2",
      "provenance": [],
      "include_colab_link": true
    },
    "kernelspec": {
      "name": "python3",
      "display_name": "Python 3"
    }
  },
  "cells": [
    {
      "cell_type": "markdown",
      "metadata": {
        "id": "view-in-github",
        "colab_type": "text"
      },
      "source": [
        "<a href=\"https://colab.research.google.com/github/hitanshu319/machine-learning/blob/master/videosave.ipynb\" target=\"_parent\"><img src=\"https://colab.research.google.com/assets/colab-badge.svg\" alt=\"Open In Colab\"/></a>"
      ]
    },
    {
      "cell_type": "code",
      "metadata": {
        "id": "uWykBzyuwFmj",
        "colab_type": "code",
        "colab": {}
      },
      "source": [
        "import  cv2\n",
        "#  staring  camera\n",
        "cap=cv2.VideoCapture(0)\n",
        "#  adding  plugin  \n",
        "plugin=cv2.VideoWriter_fourcc(*'XVID') \n",
        "#   saving  video                            width , height  \n",
        "output=cv2.VideoWriter('class2.avi',plugin,3,(640,480))\n",
        "\n",
        "while  cap.isOpened() :\n",
        "    status,frame=cap.read()\n",
        "    cv2.imshow('live',frame)\n",
        "    #   draw  pattern \n",
        "    output.write(frame)   #  sending  data  to VideoWrite \n",
        "    if  cv2.waitKey(10)   &   0xff  ==  ord('q')  :\n",
        "        break\n",
        "cv2.destroyAllWindows()  #   this will destroy all windows \n",
        "cap.release()"
      ],
      "execution_count": 0,
      "outputs": []
    }
  ]
}