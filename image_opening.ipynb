{
  "nbformat": 4,
  "nbformat_minor": 0,
  "metadata": {
    "colab": {
      "name": "image opening.ipynb",
      "version": "0.3.2",
      "provenance": [],
      "include_colab_link": true
    },
    "kernelspec": {
      "name": "python3",
      "display_name": "Python 3"
    }
  },
  "cells": [
    {
      "cell_type": "markdown",
      "metadata": {
        "id": "view-in-github",
        "colab_type": "text"
      },
      "source": [
        "<a href=\"https://colab.research.google.com/github/hitanshu319/machine-learning/blob/master/image_opening.ipynb\" target=\"_parent\"><img src=\"https://colab.research.google.com/assets/colab-badge.svg\" alt=\"Open In Colab\"/></a>"
      ]
    },
    {
      "cell_type": "code",
      "metadata": {
        "id": "22VaQpqQvqci",
        "colab_type": "code",
        "colab": {}
      },
      "source": [
        "import  sys\n",
        "import   cv2\n",
        "\n",
        "###   version  \n",
        "print(cv2.__version__)\n",
        "#  image  name as  first  argu\n",
        "data=sys.argv[1]\n",
        "\n",
        "###   image read  \n",
        "img=cv2.imread(data,1)     #  loading  image  in  a  colored  format  --original image \n",
        "img1=cv2.imread(data,0)     #  loading  image  in  gray scale  --BW \n",
        "print(img)\n",
        "#  shape \n",
        "print(img.shape)\n",
        "#   height , width ,  color channel \n",
        "#   to show  the image \n",
        "cv2.imshow('windowname',img)\n",
        "cv2.imshow('windowname1',img-50)\n",
        "cv2.imshow('windowname2',img[0:200,0:600]+100)\n",
        "cv2.imshow('windowname3',img/2)\n",
        "cv2.imshow('windowname4',img1)\n",
        "\n",
        "#   saving  image\n",
        "cv2.imwrite('newdog.jpg',img1)  \n",
        "\n",
        "cv2.waitKey(0)   #   holding  window  for infinite  time "
      ],
      "execution_count": 0,
      "outputs": []
    }
  ]
}