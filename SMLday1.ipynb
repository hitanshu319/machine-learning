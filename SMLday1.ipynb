{
  "nbformat": 4,
  "nbformat_minor": 0,
  "metadata": {
    "colab": {
      "name": "SMLday1.ipynb",
      "version": "0.3.2",
      "provenance": [],
      "include_colab_link": true
    },
    "kernelspec": {
      "name": "python3",
      "display_name": "Python 3"
    }
  },
  "cells": [
    {
      "cell_type": "markdown",
      "metadata": {
        "id": "view-in-github",
        "colab_type": "text"
      },
      "source": [
        "<a href=\"https://colab.research.google.com/github/hitanshu319/machine-learning/blob/supervised-ML/SMLday1.ipynb\" target=\"_parent\"><img src=\"https://colab.research.google.com/assets/colab-badge.svg\" alt=\"Open In Colab\"/></a>"
      ]
    },
    {
      "cell_type": "code",
      "metadata": {
        "id": "5UYIm-h4fI5j",
        "colab_type": "code",
        "outputId": "9b951588-65d1-4fbd-f935-4fd59b33912d",
        "colab": {
          "base_uri": "https://localhost:8080/",
          "height": 34
        }
      },
      "source": [
        "import numpy as np\n",
        "import pandas as pd\n",
        "from sklearn.tree import DecisionTreeClassifier   #decision tree classifier\n",
        "#this is for oranges and apple\n",
        "#0 for apple smooth  and 1 for bumpy orange\n",
        "features=[[100,0],[120,0],[130,1],[150,1]]\n",
        "label=['apple','apple','orange','orange']  #bumpy for orange smooth for apple\n",
        "#calling decision tree classifier\n",
        "clf=DecisionTreeClassifier()\n",
        "#now time for training data\n",
        "trained=clf.fit(features,label)\n",
        "#now prredicting \n",
        "trained.predict([[135,0]])"
      ],
      "execution_count": 0,
      "outputs": [
        {
          "output_type": "execute_result",
          "data": {
            "text/plain": [
              "array(['apple'], dtype='<U6')"
            ]
          },
          "metadata": {
            "tags": []
          },
          "execution_count": 10
        }
      ]
    },
    {
      "cell_type": "code",
      "metadata": {
        "id": "Nkwq3i3Rgi5Q",
        "colab_type": "code",
        "colab": {}
      },
      "source": [
        ""
      ],
      "execution_count": 0,
      "outputs": []
    }
  ]
}