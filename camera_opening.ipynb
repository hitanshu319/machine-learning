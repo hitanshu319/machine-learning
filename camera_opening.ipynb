{
  "nbformat": 4,
  "nbformat_minor": 0,
  "metadata": {
    "colab": {
      "name": "camera opening.ipynb",
      "version": "0.3.2",
      "provenance": [],
      "include_colab_link": true
    },
    "kernelspec": {
      "name": "python3",
      "display_name": "Python 3"
    }
  },
  "cells": [
    {
      "cell_type": "markdown",
      "metadata": {
        "id": "view-in-github",
        "colab_type": "text"
      },
      "source": [
        "<a href=\"https://colab.research.google.com/github/hitanshu319/machine-learning/blob/master/camera_opening.ipynb\" target=\"_parent\"><img src=\"https://colab.research.google.com/assets/colab-badge.svg\" alt=\"Open In Colab\"/></a>"
      ]
    },
    {
      "cell_type": "code",
      "metadata": {
        "id": "TVpUwNW9vZvx",
        "colab_type": "code",
        "colab": {}
      },
      "source": [
        "import  cv2\n",
        "\n",
        "#  staring  camera\n",
        "cap=cv2.VideoCapture(0)\n",
        "#                   first  camera  \n",
        "#  to check  camera is started or  not  \n",
        "if  cap.isOpened() :\n",
        "    print(\"camera is ready to take pictures\")\n",
        "else :\n",
        "    print(\"check your web cam drivers  \")\n",
        "\n",
        "#  now  we can take read  input  from camera\n",
        "status,img=cap.read()   #  it  will take  first  picture \n",
        "status1,img1=cap.read()   #  it  will take  first  picture \n",
        "#  now showing  \n",
        "cv2.imshow('liveimamge',img)\n",
        "cv2.imshow('liveimamge1',img1)\n",
        "cv2.waitKey(0)\n",
        "#  to close camera\n",
        "cap.release()"
      ],
      "execution_count": 0,
      "outputs": []
    }
  ]
}