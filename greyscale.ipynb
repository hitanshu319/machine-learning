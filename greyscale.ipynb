{
  "nbformat": 4,
  "nbformat_minor": 0,
  "metadata": {
    "colab": {
      "name": "greyscale.ipynb",
      "version": "0.3.2",
      "provenance": [],
      "collapsed_sections": [],
      "include_colab_link": true
    },
    "kernelspec": {
      "name": "python3",
      "display_name": "Python 3"
    }
  },
  "cells": [
    {
      "cell_type": "markdown",
      "metadata": {
        "id": "view-in-github",
        "colab_type": "text"
      },
      "source": [
        "<a href=\"https://colab.research.google.com/github/hitanshu319/machine-learning/blob/master/greyscale.ipynb\" target=\"_parent\"><img src=\"https://colab.research.google.com/assets/colab-badge.svg\" alt=\"Open In Colab\"/></a>"
      ]
    },
    {
      "cell_type": "code",
      "metadata": {
        "id": "gAdmXgZ60QCq",
        "colab_type": "code",
        "colab": {}
      },
      "source": [
        "import cv2\n",
        "\n"
      ],
      "execution_count": 0,
      "outputs": []
    },
    {
      "cell_type": "code",
      "metadata": {
        "id": "dO-qzYJ92m3e",
        "colab_type": "code",
        "colab": {}
      },
      "source": [
        "#for starting camera on colab \n",
        "\n",
        "from IPython.display import display, Javascript\n",
        "from google.colab.output import eval_js\n",
        "from base64 import b64decode\n",
        "\n",
        "def take_photo(filename='photo.jpg', quality=0.8):\n",
        "  js = Javascript('''\n",
        "    async function takePhoto(quality) {\n",
        "      const div = document.createElement('div');\n",
        "      const capture = document.createElement('button');\n",
        "      capture.textContent = 'Capture';\n",
        "      div.appendChild(capture);\n",
        "\n",
        "      const video = document.createElement('video');\n",
        "      video.style.display = 'block';\n",
        "      const stream = await navigator.mediaDevices.getUserMedia({video: true});\n",
        "\n",
        "      document.body.appendChild(div);\n",
        "      div.appendChild(video);\n",
        "      video.srcObject = stream;\n",
        "      await video.play();\n",
        "\n",
        "      // Resize the output to fit the video element.\n",
        "      google.colab.output.setIframeHeight(document.documentElement.scrollHeight, true);\n",
        "\n",
        "      // Wait for Capture to be clicked.\n",
        "      await new Promise((resolve) => capture.onclick = resolve);\n",
        "\n",
        "      const canvas = document.createElement('canvas');\n",
        "      canvas.width = video.videoWidth;\n",
        "      canvas.height = video.videoHeight;\n",
        "      canvas.getContext('2d').drawImage(video, 0, 0);\n",
        "      stream.getVideoTracks()[0].stop();\n",
        "      div.remove();\n",
        "      return canvas.toDataURL('image/jpeg', quality);\n",
        "    }\n",
        "    ''')\n",
        "  display(js)\n",
        "  data = eval_js('takePhoto({})'.format(quality))\n",
        "  binary = b64decode(data.split(',')[1])\n",
        "  with open(filename, 'wb') as f:\n",
        "    f.write(binary)\n",
        "  return filename\n",
        "from IPython.display import Image\n",
        "try:\n",
        "  filename = take_photo()\n",
        "  print('Saved to {}'.format(filename))\n",
        "  \n",
        "  # Show the image which was just taken.\n",
        "  display(Image(filename))\n",
        "except Exception as err:\n",
        "  # Errors will be thrown if the user does not have a webcam or if they do not\n",
        "  # grant the page permission to access it.\n",
        "  print(str(err))"
      ],
      "execution_count": 0,
      "outputs": []
    },
    {
      "cell_type": "code",
      "metadata": {
        "id": "Yi8sdDbZ0lOk",
        "colab_type": "code",
        "colab": {}
      },
      "source": [
        "cap=cv2.VideoCapture(2)"
      ],
      "execution_count": 0,
      "outputs": []
    },
    {
      "cell_type": "code",
      "metadata": {
        "id": "tEnzdjps0oOy",
        "colab_type": "code",
        "colab": {}
      },
      "source": [
        "#status of camera \n",
        "while cap.isOpened() :\n",
        "   status,frame=cap.read()\n",
        "   #detetcing red colour\n",
        "   cv2.inRange(frame,(0,0,0),(40,40,255))\n",
        "   cv2.imshow('liveredcolor',frame)\n",
        "   if cv2.waitkey(10) & 0xff== ord('q'):\n",
        "     break \n",
        "cv2.destroyAllWindows()\n",
        "cap.release()\n"
      ],
      "execution_count": 0,
      "outputs": []
    },
    {
      "cell_type": "code",
      "metadata": {
        "id": "6lSSoCJi15r7",
        "colab_type": "code",
        "colab": {}
      },
      "source": [
        "import cv2\n",
        "#startng csmera\n",
        "cap=cv2.VideoCapture(2)\n",
        "\n",
        "tp1=cap.read()[1] #take1\n",
        "tp2=cap.read()[1] #take2\n",
        "tp3=cap.read()[1] #take3\n",
        "\n",
        "#to make more perfect  \n",
        "\n",
        "gray1=cv2.cvtColor(tp1,cv2.COLOR_BGR2GRAY) #converting into grey\n",
        "gray2=cv2.cvtColor(tp2,cv2.COLOR_BGR2GRAY) #converting into grey\n",
        "gray3=cv2.cvtColor(tp3,cv2.COLOR_BGR2GRAY) #converting into grey\n",
        "\n",
        "\n",
        "#now creating image differentiator\n",
        "\n",
        "def img_deff(x,y,z):\n",
        "  #diff between x,y ---gray1,gray2 ---d1\n",
        "  d1=cv2.absdiff(x,y)\n",
        "  #diff btw y,z ---gray2,gray3--------d2\n",
        "  d2=cv2.absdiff(y,z)\n",
        "#absoloute diff btw  d1,d2 \n",
        "  finalimg=cv2.bitwise_and(d1,d2)\n",
        "  return finalimg\n",
        "\n",
        "#now apply function\n",
        "\n",
        "while cap.isOpened():\n",
        "  status.frame=cap.read()  #continue image taker\n",
        "  img_diff(gray1,gray2,gray3)\n",
        "  #replacing image frame\n",
        "  gray1=gray2\n",
        "  gray2=gray3\n",
        "  gray3=cv2.cvtColor(frame,cv2.COLOR_BGR2GRAY)  #passing live image to gray3\n",
        "  cv2.imshow(\"live\",frame)\n",
        "  cv2.imshow(\"motion\",mptioning) #motion detect\n",
        "  \n",
        "  if cv2.waitkey(10) & 0xff ==ord('q'):\n",
        "    break\n",
        "    \n",
        "cv2.destroyAllWindows()    "
      ],
      "execution_count": 0,
      "outputs": []
    },
    {
      "cell_type": "code",
      "metadata": {
        "id": "taEKI4Ux2mLN",
        "colab_type": "code",
        "colab": {}
      },
      "source": [
        ""
      ],
      "execution_count": 0,
      "outputs": []
    }
  ]
}