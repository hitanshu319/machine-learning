{
  "nbformat": 4,
  "nbformat_minor": 0,
  "metadata": {
    "colab": {
      "name": "face detection.ipynb",
      "version": "0.3.2",
      "provenance": [],
      "include_colab_link": true
    },
    "kernelspec": {
      "name": "python3",
      "display_name": "Python 3"
    }
  },
  "cells": [
    {
      "cell_type": "markdown",
      "metadata": {
        "id": "view-in-github",
        "colab_type": "text"
      },
      "source": [
        "<a href=\"https://colab.research.google.com/github/hitanshu319/machine-learning/blob/master/face_detection.ipynb\" target=\"_parent\"><img src=\"https://colab.research.google.com/assets/colab-badge.svg\" alt=\"Open In Colab\"/></a>"
      ]
    },
    {
      "cell_type": "code",
      "metadata": {
        "id": "MKM89X_FvAoT",
        "colab_type": "code",
        "colab": {}
      },
      "source": [
        "import  cv2\n",
        "import numpy as np\n",
        "face_cascade = cv2.CascadeClassifier('face.xml')\n",
        "\n",
        "\n",
        "\n",
        "cap=cv2.VideoCapture(0)\n",
        "while cap.isOpened() :\n",
        "    status,frame=cap.read()  # continue image taker\n",
        "    faces = face_cascade.detectMultiScale(frame,1.15,5)  \n",
        "    for  (x,y,w,h) in faces:\n",
        "        # Only face\n",
        "        cv2.rectangle(frame,(x,y),(x+h,y+w),(0,0,225),2)\n",
        "    cv2.imshow(\"window 1\",frame)\n",
        "    if cv2.waitKey(10) & 0xff ==ord('q'):\n",
        "        break\n",
        "\n",
        "cv2.destroyAllWindows()\n",
        "cap.release()"
      ],
      "execution_count": 0,
      "outputs": []
    }
  ]
}