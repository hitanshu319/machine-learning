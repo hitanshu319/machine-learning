{
  "nbformat": 4,
  "nbformat_minor": 0,
  "metadata": {
    "colab": {
      "name": "svm.ipynb",
      "version": "0.3.2",
      "provenance": [],
      "collapsed_sections": [],
      "include_colab_link": true
    },
    "kernelspec": {
      "name": "python3",
      "display_name": "Python 3"
    }
  },
  "cells": [
    {
      "cell_type": "markdown",
      "metadata": {
        "id": "view-in-github",
        "colab_type": "text"
      },
      "source": [
        "<a href=\"https://colab.research.google.com/github/hitanshu319/machine-learning/blob/supervised-ML/svm.ipynb\" target=\"_parent\"><img src=\"https://colab.research.google.com/assets/colab-badge.svg\" alt=\"Open In Colab\"/></a>"
      ]
    },
    {
      "cell_type": "code",
      "metadata": {
        "id": "RbB7sCpDK06t",
        "colab_type": "code",
        "colab": {}
      },
      "source": [
        "from sklearn.datasets import load_digits\n"
      ],
      "execution_count": 0,
      "outputs": []
    },
    {
      "cell_type": "code",
      "metadata": {
        "id": "M6J_aQ5SMU3E",
        "colab_type": "code",
        "colab": {}
      },
      "source": [
        "#loading digit data\n",
        "digit=load_digits()"
      ],
      "execution_count": 0,
      "outputs": []
    },
    {
      "cell_type": "code",
      "metadata": {
        "id": "qyAr0iqhMly1",
        "colab_type": "code",
        "colab": {
          "base_uri": "https://localhost:8080/",
          "height": 34
        },
        "outputId": "3e71a820-b748-4dc2-9843-9465727fcc76"
      },
      "source": [
        "#dir\n",
        "dir(digit)\n",
        "\n"
      ],
      "execution_count": 5,
      "outputs": [
        {
          "output_type": "execute_result",
          "data": {
            "text/plain": [
              "['DESCR', 'data', 'images', 'target', 'target_names']"
            ]
          },
          "metadata": {
            "tags": []
          },
          "execution_count": 5
        }
      ]
    },
    {
      "cell_type": "code",
      "metadata": {
        "id": "3T9gYM7-MtGk",
        "colab_type": "code",
        "colab": {}
      },
      "source": [
        "#feature\n",
        "\n",
        "features=digit.data"
      ],
      "execution_count": 0,
      "outputs": []
    },
    {
      "cell_type": "code",
      "metadata": {
        "id": "SX0_bdBcMxgS",
        "colab_type": "code",
        "colab": {}
      },
      "source": [
        "#label\n",
        "label=digit.target"
      ],
      "execution_count": 0,
      "outputs": []
    },
    {
      "cell_type": "code",
      "metadata": {
        "id": "XA_haPQJM0gb",
        "colab_type": "code",
        "colab": {}
      },
      "source": [
        "#trainign and testing\n",
        "\n",
        "from sklearn.model_selection import train_test_split\n",
        "X,x,Y,y=train_test_split(features,label,test_size=0.2)"
      ],
      "execution_count": 0,
      "outputs": []
    },
    {
      "cell_type": "code",
      "metadata": {
        "id": "ZlLYoM9uNKz0",
        "colab_type": "code",
        "colab": {
          "base_uri": "https://localhost:8080/",
          "height": 286
        },
        "outputId": "6cea17df-3356-465e-b4fb-710ac54bfda8"
      },
      "source": [
        "#data visualize\n",
        "\n",
        "import matplotlib.pyplot as plt\n",
        "plt.imshow(digit.images[0])"
      ],
      "execution_count": 14,
      "outputs": [
        {
          "output_type": "execute_result",
          "data": {
            "text/plain": [
              "<matplotlib.image.AxesImage at 0x7f9691c5e898>"
            ]
          },
          "metadata": {
            "tags": []
          },
          "execution_count": 14
        },
        {
          "output_type": "display_data",
          "data": {
            "image/png": "[encoded data removed]",
            "text/plain": [
              "<Figure size 432x288 with 1 Axes>"
            ]
          },
          "metadata": {
            "tags": []
          }
        }
      ]
    },
    {
      "cell_type": "code",
      "metadata": {
        "id": "GOmYZ22FNWZB",
        "colab_type": "code",
        "colab": {}
      },
      "source": [
        "#now calling svc \n",
        "\n",
        "from sklearn.svm import SVC\n",
        "\n",
        "\n"
      ],
      "execution_count": 0,
      "outputs": []
    },
    {
      "cell_type": "code",
      "metadata": {
        "id": "tMaAPg8cOh2d",
        "colab_type": "code",
        "colab": {}
      },
      "source": [
        "#calling clf\n",
        "\n",
        "clf=SVC()"
      ],
      "execution_count": 0,
      "outputs": []
    },
    {
      "cell_type": "code",
      "metadata": {
        "id": "C8NAeMSFO95I",
        "colab_type": "code",
        "colab": {
          "base_uri": "https://localhost:8080/",
          "height": 70
        },
        "outputId": "ae80c1e9-ae4e-4f9c-93d6-45e7cdff5027"
      },
      "source": [
        "#training my classifier\n",
        "\n",
        "trained=clf.fit(X,Y)"
      ],
      "execution_count": 25,
      "outputs": [
        {
          "output_type": "stream",
          "text": [
            "/usr/local/lib/python3.6/dist-packages/sklearn/svm/base.py:193: FutureWarning: The default value of gamma will change from 'auto' to 'scale' in version 0.22 to account better for unscaled features. Set gamma explicitly to 'auto' or 'scale' to avoid this warning.\n",
            "  \"avoid this warning.\", FutureWarning)\n"
          ],
          "name": "stderr"
        }
      ]
    },
    {
      "cell_type": "code",
      "metadata": {
        "id": "RyA0Is2tPC_L",
        "colab_type": "code",
        "colab": {}
      },
      "source": [
        "#now predicitng\n",
        "\n",
        "output=trained.predict(x)"
      ],
      "execution_count": 0,
      "outputs": []
    },
    {
      "cell_type": "code",
      "metadata": {
        "id": "mkUx8BamPSiD",
        "colab_type": "code",
        "colab": {
          "base_uri": "https://localhost:8080/",
          "height": 302
        },
        "outputId": "ca243876-628e-4c5b-98fb-34975bcf25bd"
      },
      "source": [
        "output"
      ],
      "execution_count": 27,
      "outputs": [
        {
          "output_type": "execute_result",
          "data": {
            "text/plain": [
              "array([7, 7, 7, 3, 7, 3, 3, 7, 8, 7, 7, 7, 7, 7, 7, 6, 7, 7, 7, 7, 6, 7,\n",
              "       7, 7, 7, 7, 9, 4, 0, 4, 7, 0, 0, 7, 7, 6, 3, 7, 0, 7, 3, 6, 7, 7,\n",
              "       4, 7, 0, 7, 7, 0, 1, 7, 3, 3, 7, 3, 7, 3, 7, 7, 7, 6, 7, 7, 7, 7,\n",
              "       9, 2, 7, 7, 9, 4, 7, 7, 7, 7, 7, 4, 7, 7, 6, 4, 7, 7, 7, 4, 7, 7,\n",
              "       7, 7, 7, 7, 7, 5, 7, 0, 7, 7, 7, 7, 7, 2, 7, 7, 0, 4, 6, 7, 7, 7,\n",
              "       7, 7, 7, 7, 7, 7, 7, 7, 7, 7, 7, 6, 7, 7, 7, 1, 6, 7, 9, 7, 7, 7,\n",
              "       7, 0, 3, 9, 7, 7, 7, 4, 0, 3, 7, 7, 7, 7, 9, 7, 3, 4, 6, 7, 9, 7,\n",
              "       7, 1, 7, 7, 7, 7, 6, 7, 6, 4, 7, 7, 6, 7, 7, 7, 4, 8, 7, 7, 4, 7,\n",
              "       0, 1, 7, 7, 9, 7, 7, 2, 7, 7, 0, 7, 0, 7, 7, 7, 7, 1, 7, 7, 7, 9,\n",
              "       7, 9, 1, 9, 7, 7, 7, 7, 4, 7, 2, 7, 7, 7, 7, 7, 7, 6, 4, 7, 0, 7,\n",
              "       7, 7, 7, 7, 7, 7, 7, 7, 0, 7, 7, 7, 7, 7, 3, 7, 7, 9, 0, 7, 7, 7,\n",
              "       6, 1, 7, 9, 2, 7, 1, 4, 7, 5, 4, 7, 7, 0, 7, 7, 7, 2, 6, 7, 7, 6,\n",
              "       0, 6, 1, 7, 7, 1, 7, 7, 7, 2, 7, 3, 7, 7, 4, 9, 7, 3, 7, 7, 7, 7,\n",
              "       7, 7, 3, 6, 7, 3, 3, 7, 7, 6, 1, 7, 7, 7, 7, 3, 1, 1, 7, 3, 1, 7,\n",
              "       5, 4, 7, 7, 7, 7, 0, 7, 7, 4, 3, 3, 7, 7, 7, 7, 7, 7, 7, 4, 1, 7,\n",
              "       7, 7, 3, 9, 7, 7, 7, 7, 3, 7, 7, 7, 9, 7, 7, 7, 7, 9, 7, 7, 7, 7,\n",
              "       7, 0, 7, 9, 9, 7, 7, 7])"
            ]
          },
          "metadata": {
            "tags": []
          },
          "execution_count": 27
        }
      ]
    },
    {
      "cell_type": "code",
      "metadata": {
        "id": "dkqdfafzPTUm",
        "colab_type": "code",
        "colab": {
          "base_uri": "https://localhost:8080/",
          "height": 302
        },
        "outputId": "fed8f9bd-f3fd-4e67-98f2-c29e4d82622d"
      },
      "source": [
        "y"
      ],
      "execution_count": 28,
      "outputs": [
        {
          "output_type": "execute_result",
          "data": {
            "text/plain": [
              "array([3, 3, 3, 3, 7, 3, 3, 6, 8, 5, 0, 4, 3, 5, 2, 6, 2, 9, 1, 0, 6, 5,\n",
              "       7, 5, 9, 7, 9, 4, 0, 4, 2, 0, 0, 4, 6, 6, 3, 9, 0, 0, 3, 6, 0, 8,\n",
              "       4, 2, 0, 5, 2, 0, 1, 6, 3, 3, 1, 3, 8, 3, 3, 7, 5, 6, 9, 0, 8, 1,\n",
              "       9, 2, 5, 0, 9, 4, 5, 8, 6, 5, 7, 4, 5, 9, 6, 4, 9, 5, 5, 4, 1, 0,\n",
              "       9, 1, 5, 3, 5, 5, 5, 0, 4, 5, 8, 5, 8, 2, 7, 4, 0, 4, 6, 8, 2, 6,\n",
              "       6, 2, 7, 9, 8, 2, 8, 8, 8, 0, 1, 6, 7, 5, 8, 1, 6, 6, 9, 0, 0, 6,\n",
              "       5, 0, 3, 9, 1, 1, 2, 4, 0, 3, 7, 5, 5, 0, 9, 2, 3, 4, 6, 6, 9, 1,\n",
              "       9, 1, 8, 9, 5, 7, 6, 5, 6, 4, 2, 3, 6, 7, 1, 5, 4, 8, 2, 5, 4, 2,\n",
              "       0, 1, 1, 0, 9, 5, 8, 2, 0, 1, 0, 2, 0, 1, 2, 2, 8, 1, 3, 8, 2, 9,\n",
              "       5, 9, 1, 9, 1, 9, 5, 7, 4, 5, 2, 1, 6, 8, 5, 7, 2, 6, 4, 3, 0, 6,\n",
              "       0, 0, 5, 1, 1, 8, 7, 4, 0, 8, 5, 8, 2, 7, 3, 8, 7, 9, 0, 5, 2, 5,\n",
              "       6, 1, 8, 9, 2, 7, 1, 4, 2, 5, 4, 8, 2, 0, 6, 2, 8, 2, 6, 1, 0, 6,\n",
              "       0, 6, 1, 5, 7, 1, 2, 5, 8, 2, 2, 3, 6, 5, 4, 9, 5, 3, 2, 4, 8, 6,\n",
              "       8, 1, 3, 6, 9, 3, 3, 9, 9, 6, 1, 8, 2, 5, 8, 3, 1, 1, 7, 3, 1, 1,\n",
              "       5, 4, 0, 7, 2, 8, 0, 4, 8, 4, 3, 3, 2, 9, 1, 2, 3, 2, 2, 4, 1, 7,\n",
              "       7, 2, 3, 9, 2, 7, 6, 8, 3, 0, 8, 5, 9, 5, 3, 5, 7, 9, 7, 1, 8, 0,\n",
              "       6, 0, 6, 9, 9, 0, 2, 2])"
            ]
          },
          "metadata": {
            "tags": []
          },
          "execution_count": 28
        }
      ]
    },
    {
      "cell_type": "code",
      "metadata": {
        "id": "QL5uTh8VPZGW",
        "colab_type": "code",
        "colab": {}
      },
      "source": [
        "#calculating accuracy\n",
        "\n",
        "\n",
        "from sklearn.metrics import accuracy_score\n",
        "\n",
        "acr=accuracy_score(output,y)"
      ],
      "execution_count": 0,
      "outputs": []
    },
    {
      "cell_type": "code",
      "metadata": {
        "id": "Gruc13EPPtYW",
        "colab_type": "code",
        "colab": {
          "base_uri": "https://localhost:8080/",
          "height": 34
        },
        "outputId": "8d55bb9e-5619-40a3-a87a-39a6f6ba127c"
      },
      "source": [
        "acr"
      ],
      "execution_count": 30,
      "outputs": [
        {
          "output_type": "execute_result",
          "data": {
            "text/plain": [
              "0.43333333333333335"
            ]
          },
          "metadata": {
            "tags": []
          },
          "execution_count": 30
        }
      ]
    },
    {
      "cell_type": "code",
      "metadata": {
        "id": "6KwWXHU9Pt78",
        "colab_type": "code",
        "colab": {}
      },
      "source": [
        ""
      ],
      "execution_count": 0,
      "outputs": []
    }
  ]
}