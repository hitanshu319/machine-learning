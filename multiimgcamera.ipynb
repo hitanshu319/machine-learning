{
  "nbformat": 4,
  "nbformat_minor": 0,
  "metadata": {
    "colab": {
      "name": "multiimgcamera.ipynb",
      "version": "0.3.2",
      "provenance": [],
      "include_colab_link": true
    },
    "kernelspec": {
      "name": "python3",
      "display_name": "Python 3"
    }
  },
  "cells": [
    {
      "cell_type": "markdown",
      "metadata": {
        "id": "view-in-github",
        "colab_type": "text"
      },
      "source": [
        "<a href=\"https://colab.research.google.com/github/hitanshu319/machine-learning/blob/master/multiimgcamera.ipynb\" target=\"_parent\"><img src=\"https://colab.research.google.com/assets/colab-badge.svg\" alt=\"Open In Colab\"/></a>"
      ]
    },
    {
      "cell_type": "code",
      "metadata": {
        "id": "8A9AOI5ev35n",
        "colab_type": "code",
        "colab": {}
      },
      "source": [
        "import  cv2\n",
        "#  staring  camera\n",
        "cap=cv2.VideoCapture(0)\n",
        "while  cap.isOpened() :\n",
        "    status,frame=cap.read()\n",
        "    #  converting  image  frame into gray scale \n",
        "    grayimg=cv2.cvtColor(frame,cv2.COLOR_BGR2GRAY)  \n",
        "    print(frame.shape)\n",
        "    #  line\n",
        "    cv2.line(frame,(0,0),(200,300),(0,255,0),3)\n",
        "    #  rectangle \n",
        "    cv2.rectangle(frame,(50,50),(150,200),(0,0,255),2)\n",
        "    #  circle                    \n",
        "    cv2.circle(frame,(200,300),100,(13,44,123),2)\n",
        "    #  text writing \n",
        "    font = cv2.FONT_HERSHEY_SIMPLEX   #   this  font  type  \n",
        "    cv2.putText(frame,'ADHOC',(10,50), font, 2,(0,2,55),2,cv2.LINE_AA)\n",
        "    cv2.imshow('live',frame)\n",
        "    #cv2.imshow('livegray',grayimg)\n",
        "    if  cv2.waitKey(10)   &   0xff  ==  ord('q')  :\n",
        "        break\n",
        "#cv2.destroyWindow('live')\n",
        "cv2.destroyAllWindows()  #   this will destroy all windows \n",
        "#  to close camera\n",
        "cap.release()"
      ],
      "execution_count": 0,
      "outputs": []
    }
  ]
}