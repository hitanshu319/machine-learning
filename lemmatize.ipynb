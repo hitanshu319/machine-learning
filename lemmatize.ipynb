{
  "nbformat": 4,
  "nbformat_minor": 0,
  "metadata": {
    "colab": {
      "name": "lemmatize.ipynb",
      "version": "0.3.2",
      "provenance": [],
      "collapsed_sections": [],
      "include_colab_link": true
    },
    "kernelspec": {
      "name": "python3",
      "display_name": "Python 3"
    }
  },
  "cells": [
    {
      "cell_type": "markdown",
      "metadata": {
        "id": "view-in-github",
        "colab_type": "text"
      },
      "source": [
        "<a href=\"https://colab.research.google.com/github/hitanshu319/machine-learning/blob/master/lemmatize.ipynb\" target=\"_parent\"><img src=\"https://colab.research.google.com/assets/colab-badge.svg\" alt=\"Open In Colab\"/></a>"
      ]
    },
    {
      "cell_type": "code",
      "metadata": {
        "id": "92ISxibqebDW",
        "colab_type": "code",
        "colab": {}
      },
      "source": [
        "import spacy\n"
      ],
      "execution_count": 0,
      "outputs": []
    },
    {
      "cell_type": "code",
      "metadata": {
        "id": "VjpMz7Pnee6-",
        "colab_type": "code",
        "colab": {}
      },
      "source": [
        "#language of code..\n",
        "\n",
        "ntp=spacy.load('en')"
      ],
      "execution_count": 0,
      "outputs": []
    },
    {
      "cell_type": "code",
      "metadata": {
        "id": "BindHNSbekqO",
        "colab_type": "code",
        "colab": {}
      },
      "source": [
        "data=\"hello world i am going ou side for playing cricket\"\n"
      ],
      "execution_count": 0,
      "outputs": []
    },
    {
      "cell_type": "code",
      "metadata": {
        "id": "EHp3auBNfZfx",
        "colab_type": "code",
        "colab": {}
      },
      "source": [
        "new_data=ntp(data)"
      ],
      "execution_count": 0,
      "outputs": []
    },
    {
      "cell_type": "code",
      "metadata": {
        "id": "VlnLNGxQfbmG",
        "colab_type": "code",
        "colab": {
          "base_uri": "https://localhost:8080/",
          "height": 521
        },
        "outputId": "c231c66f-2c41-4247-a5c1-1a635dd10a6a"
      },
      "source": [
        "for i in new_data :\n",
        "  print(i,\"lemmatization of word is..>\",i.lemma_)\n",
        "  print(\"#######################\")\n",
        "  print(i,\"POS...>\",i.pos_)"
      ],
      "execution_count": 13,
      "outputs": [
        {
          "output_type": "stream",
          "text": [
            "hello lemmatization of word is..> hello\n",
            "#######################\n",
            "hello POS...> INTJ\n",
            "world lemmatization of word is..> world\n",
            "#######################\n",
            "world POS...> NOUN\n",
            "i lemmatization of word is..> i\n",
            "#######################\n",
            "i POS...> PRON\n",
            "am lemmatization of word is..> be\n",
            "#######################\n",
            "am POS...> VERB\n",
            "going lemmatization of word is..> go\n",
            "#######################\n",
            "going POS...> VERB\n",
            "ou lemmatization of word is..> ou\n",
            "#######################\n",
            "ou POS...> PART\n",
            "side lemmatization of word is..> side\n",
            "#######################\n",
            "side POS...> VERB\n",
            "for lemmatization of word is..> for\n",
            "#######################\n",
            "for POS...> ADP\n",
            "playing lemmatization of word is..> play\n",
            "#######################\n",
            "playing POS...> VERB\n",
            "cricket lemmatization of word is..> cricket\n",
            "#######################\n",
            "cricket POS...> NOUN\n"
          ],
          "name": "stdout"
        }
      ]
    },
    {
      "cell_type": "code",
      "metadata": {
        "id": "hRLp448HgDbL",
        "colab_type": "code",
        "colab": {}
      },
      "source": [
        ""
      ],
      "execution_count": 0,
      "outputs": []
    }
  ]
}